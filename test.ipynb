{
 "cells": [
  {
   "cell_type": "code",
   "execution_count": 1,
   "metadata": {
    "collapsed": true
   },
   "outputs": [],
   "source": [
    "from PIL import Image\n",
    "import os\n",
    "\n",
    "input_folder = './input_folder'  # 输入文件夹路径\n",
    "output_folder = './output_folder'  # 输出文件夹路径\n",
    "segment_size = (1000, 1000)  # 分割图像的大小\n",
    "step_size = (500, 300)  # 步长\n",
    "\n",
    "# 如果输出文件夹不存在则创建它\n",
    "if not os.path.exists(output_folder):\n",
    "    os.makedirs(output_folder)\n",
    "\n",
    "# 遍历输入文件夹中的所有图像文件\n",
    "for filename in os.listdir(input_folder):\n",
    "    if filename.endswith('.JPG'):\n",
    "        # 打开图像文件\n",
    "        img = Image.open(os.path.join(input_folder, filename))\n",
    "\n",
    "        # 计算分割后的图像数量\n",
    "        segments_x = (img.width - segment_size[0]) // step_size[0] + 2\n",
    "        segments_y = (img.height - segment_size[1]) // step_size[1] + 2\n",
    "\n",
    "        # 对图像进行分割并保存\n",
    "        for y in range(segments_y):\n",
    "            for x in range(segments_x):\n",
    "                # 计算当前分割图像的位置和大小\n",
    "                left = x * step_size[0]\n",
    "                top = y * step_size[1]\n",
    "                right = min(left + segment_size[0], img.width)\n",
    "                bottom = min(top + segment_size[1], img.height)\n",
    "\n",
    "                # 如果分割图像宽度不足1000像素，则从右侧开始向左取1000像素进行补全\n",
    "                if right - left < segment_size[0]:\n",
    "                    left = right - segment_size[0]\n",
    "\n",
    "                # 如果分割图像高度不足1000像素，则从下侧开始向上取1000像素进行补全\n",
    "                if bottom - top < segment_size[1]:\n",
    "                    top = bottom - segment_size[1]\n",
    "\n",
    "                # 裁剪当前分割图像并保存到文件夹中\n",
    "                segment = img.crop((left, top, right, bottom))\n",
    "\n",
    "\n",
    "                # left = x * step_size[0]\n",
    "                # top = y * step_size[1]\n",
    "                # right = min(left + segment_size[0], img.width)\n",
    "                # bottom = min(top + segment_size[1], img.height)\n",
    "                # segment = img.crop((left, top, right, bottom))\n",
    "\n",
    "                # 计算输出文件名并保存图像\n",
    "                output_filename = f'{os.path.splitext(filename)[0]}_{x}_{y}.JPG'\n",
    "                segment.save(os.path.join(output_folder, output_filename))\n"
   ]
  },
  {
   "cell_type": "code",
   "execution_count": 5,
   "outputs": [
    {
     "data": {
      "text/plain": "4"
     },
     "execution_count": 5,
     "metadata": {},
     "output_type": "execute_result"
    }
   ],
   "source": [
    "segments_y"
   ],
   "metadata": {
    "collapsed": false
   }
  }
 ],
 "metadata": {
  "kernelspec": {
   "display_name": "Python 3",
   "language": "python",
   "name": "python3"
  },
  "language_info": {
   "codemirror_mode": {
    "name": "ipython",
    "version": 2
   },
   "file_extension": ".py",
   "mimetype": "text/x-python",
   "name": "python",
   "nbconvert_exporter": "python",
   "pygments_lexer": "ipython2",
   "version": "2.7.6"
  }
 },
 "nbformat": 4,
 "nbformat_minor": 0
}
